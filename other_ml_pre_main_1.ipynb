{
 "cells": [
  {
   "cell_type": "code",
   "execution_count": 107,
   "metadata": {},
   "outputs": [],
   "source": [
    "import os\n",
    "import sys\n",
    "import pandas as pd\n",
    "\n",
    "os.environ[\"CUDA_VISIBLE_DEVICES\"] = \"1\"\n",
    "\n",
    "from src.main import training_all_feat_except_ae"
   ]
  },
  {
   "cell_type": "code",
   "execution_count": 2,
   "metadata": {},
   "outputs": [],
   "source": [
    "# df_fan, df_fan_means = training_all_feat_except_ae()"
   ]
  },
  {
   "cell_type": "code",
   "execution_count": 24,
   "metadata": {},
   "outputs": [],
   "source": [
    "def search_pickle_data (data_path, dir_name_contains) :\n",
    "    dirname_parents = os.path.dirname(data_path)\n",
    "    dirs = os.listdir(dirname_parents)\n",
    "\n",
    "    contains_list = []\n",
    "    for dirname in dirs :\n",
    "        if dir_name_contains in dirname :\n",
    "            contains_list.append(dirname)\n",
    "    \n",
    "    if len(contains_list) == 0 :\n",
    "        return None\n",
    "    \n",
    "    return contains_list"
   ]
  },
  {
   "cell_type": "code",
   "execution_count": 44,
   "metadata": {},
   "outputs": [],
   "source": [
    "data_path = \"/mnt/d/silofox/paad/anomaly-example/exploring-AAD/notebooks/paad/tmp/data/df_an.pkl\"\n",
    "dir_name_contains = \"df_meta_5050\""
   ]
  },
  {
   "cell_type": "code",
   "execution_count": 45,
   "metadata": {},
   "outputs": [
    {
     "data": {
      "text/plain": [
       "['df_meta_5050.pkl',\n",
       " 'df_meta_5050_feat.pkl',\n",
       " 'df_meta_5050_feat_means.pkl',\n",
       " 'df_meta_5050_feat_means_train_test.pkl',\n",
       " 'df_meta_5050_feat_train_test.pkl']"
      ]
     },
     "execution_count": 45,
     "metadata": {},
     "output_type": "execute_result"
    }
   ],
   "source": [
    "search_pickle_data(data_path, dir_name_contains)"
   ]
  },
  {
   "cell_type": "code",
   "execution_count": 46,
   "metadata": {},
   "outputs": [],
   "source": [
    "pickles = search_pickle_data(data_path, dir_name_contains)"
   ]
  },
  {
   "cell_type": "code",
   "execution_count": 30,
   "metadata": {},
   "outputs": [],
   "source": [
    "last_slash = data_path.rfind(\"/\")"
   ]
  },
  {
   "cell_type": "code",
   "execution_count": 36,
   "metadata": {},
   "outputs": [
    {
     "data": {
      "text/plain": [
       "73"
      ]
     },
     "execution_count": 36,
     "metadata": {},
     "output_type": "execute_result"
    }
   ],
   "source": [
    "last_slash"
   ]
  },
  {
   "cell_type": "code",
   "execution_count": 40,
   "metadata": {},
   "outputs": [
    {
     "data": {
      "text/plain": [
       "'/mnt/d/silofox/paad/anomaly-example/exploring-AAD/notebooks/paad/tmp/data/'"
      ]
     },
     "execution_count": 40,
     "metadata": {},
     "output_type": "execute_result"
    }
   ],
   "source": [
    "data_path[:last_slash + 1]\n"
   ]
  },
  {
   "cell_type": "code",
   "execution_count": 50,
   "metadata": {},
   "outputs": [
    {
     "name": "stdout",
     "output_type": "stream",
     "text": [
      "['df_meta_5050.pkl', 'df_meta_5050_feat.pkl', 'df_meta_5050_feat_means.pkl', 'df_meta_5050_feat_means_train_test.pkl', 'df_meta_5050_feat_train_test.pkl']\n",
      "pkl\n",
      "\n",
      "\n",
      "['df_meta_5050_feat.pkl', 'df_meta_5050_feat_means.pkl', 'df_meta_5050_feat_means_train_test.pkl', 'df_meta_5050_feat_train_test.pkl']\n",
      "feat\n",
      "['df_meta_5050.pkl', 'df_meta_5050_feat.pkl', 'df_meta_5050_feat_means.pkl', 'df_meta_5050_feat_means_train_test.pkl', 'df_meta_5050_feat_train_test.pkl']\n",
      "pkl\n",
      "\n",
      "\n",
      "['df_meta_5050_feat.pkl', 'df_meta_5050_feat_means.pkl', 'df_meta_5050_feat_means_train_test.pkl', 'df_meta_5050_feat_train_test.pkl']\n",
      "feat\n",
      "['df_meta_5050.pkl', 'df_meta_5050_feat.pkl', 'df_meta_5050_feat_means.pkl', 'df_meta_5050_feat_means_train_test.pkl', 'df_meta_5050_feat_train_test.pkl']\n",
      "pkl\n",
      "\n",
      "\n",
      "['df_meta_5050_feat_means_train_test.pkl', 'df_meta_5050_feat_train_test.pkl']\n",
      "train_test\n",
      "['df_meta_5050_feat.pkl', 'df_meta_5050_feat_means.pkl', 'df_meta_5050_feat_means_train_test.pkl', 'df_meta_5050_feat_train_test.pkl']\n",
      "feat\n",
      "['df_meta_5050.pkl', 'df_meta_5050_feat.pkl', 'df_meta_5050_feat_means.pkl', 'df_meta_5050_feat_means_train_test.pkl', 'df_meta_5050_feat_train_test.pkl']\n",
      "pkl\n",
      "\n",
      "\n",
      "['df_meta_5050_feat_means_train_test.pkl', 'df_meta_5050_feat_train_test.pkl']\n",
      "train_test\n",
      "['df_meta_5050_feat.pkl', 'df_meta_5050_feat_means.pkl', 'df_meta_5050_feat_means_train_test.pkl', 'df_meta_5050_feat_train_test.pkl']\n",
      "feat\n",
      "['df_meta_5050.pkl', 'df_meta_5050_feat.pkl', 'df_meta_5050_feat_means.pkl', 'df_meta_5050_feat_means_train_test.pkl', 'df_meta_5050_feat_train_test.pkl']\n",
      "pkl\n",
      "\n",
      "\n"
     ]
    }
   ],
   "source": [
    "# stupid\n",
    "\n",
    "for each_pickle in pickles :\n",
    "    if \"train_test\" in each_pickle :\n",
    "        print([pickle for pickle in pickles if \"train_test\" in pickle])\n",
    "        print(\"train_test\")\n",
    "    if \"feat\" in each_pickle :\n",
    "        print([pickle for pickle in pickles if \"feat\" in pickle])\n",
    "        print(\"feat\")\n",
    "    if \"pkl\" in each_pickle :\n",
    "        print([pickle for pickle in pickles if \"pkl\" in pickle])\n",
    "        print(\"pkl\")"
   ]
  },
  {
   "cell_type": "code",
   "execution_count": 100,
   "metadata": {},
   "outputs": [],
   "source": [
    "def make_pickle_path (abs_path, dirnames) :\n",
    "    path_list = []\n",
    "    for dirname in dirnames :\n",
    "        path_list.append(abs_path[:abs_path.rfind(\"/\") + 1] + dirname)\n",
    "    return path_list"
   ]
  },
  {
   "cell_type": "code",
   "execution_count": 92,
   "metadata": {},
   "outputs": [],
   "source": [
    "def filtered_dirnames (pickles, filter_name) :\n",
    "    return [ pickle for pickle in pickles if filter_name in pickle ]\n",
    "\n",
    "def decision_filter (pickles, filter_list = [\"train_test\", \"feat\", \"pkl\"]) :\n",
    "    for filter_name in filter_list :\n",
    "        for each_pickle in pickles :\n",
    "            if filter_name in each_pickle :\n",
    "                return filtered_dirnames(pickles, filter_name)\n",
    "    return None"
   ]
  },
  {
   "cell_type": "code",
   "execution_count": 59,
   "metadata": {},
   "outputs": [
    {
     "name": "stdout",
     "output_type": "stream",
     "text": [
      "/mnt/d/silofox/paad/anomaly-example/exploring-AAD/notebooks/paad/tmp/data/df_meta_5050_feat_means_train_test.pkl\n",
      "/mnt/d/silofox/paad/anomaly-example/exploring-AAD/notebooks/paad/tmp/data/df_meta_5050_feat_train_test.pkl\n",
      "\n",
      "/mnt/d/silofox/paad/anomaly-example/exploring-AAD/notebooks/paad/tmp/data/df_meta_5050_feat.pkl\n",
      "/mnt/d/silofox/paad/anomaly-example/exploring-AAD/notebooks/paad/tmp/data/df_meta_5050_feat_means.pkl\n",
      "/mnt/d/silofox/paad/anomaly-example/exploring-AAD/notebooks/paad/tmp/data/df_meta_5050_feat_means_train_test.pkl\n",
      "/mnt/d/silofox/paad/anomaly-example/exploring-AAD/notebooks/paad/tmp/data/df_meta_5050_feat_train_test.pkl\n",
      "\n",
      "/mnt/d/silofox/paad/anomaly-example/exploring-AAD/notebooks/paad/tmp/data/df_meta_5050.pkl\n",
      "/mnt/d/silofox/paad/anomaly-example/exploring-AAD/notebooks/paad/tmp/data/df_meta_5050_feat.pkl\n",
      "/mnt/d/silofox/paad/anomaly-example/exploring-AAD/notebooks/paad/tmp/data/df_meta_5050_feat_means.pkl\n",
      "/mnt/d/silofox/paad/anomaly-example/exploring-AAD/notebooks/paad/tmp/data/df_meta_5050_feat_means_train_test.pkl\n",
      "/mnt/d/silofox/paad/anomaly-example/exploring-AAD/notebooks/paad/tmp/data/df_meta_5050_feat_train_test.pkl\n",
      "\n"
     ]
    }
   ],
   "source": [
    "# filtered_train_test = [pickle for pickle in pickles if \"train_test\" in pickle]\n",
    "# if filtered_train_test : \n",
    "#     make_pickle_path(data_path, filtered_train_test)\n",
    "\n",
    "# filtered_feat = [pickle for pickle in pickles if \"feat\" in pickle]\n",
    "# if filtered_feat :\n",
    "#     make_pickle_path(data_path, filtered_feat)\n",
    "\n",
    "# filtered_pkl = [pickle for pickle in pickles if \"pkl\" in pickle]\n",
    "# if filtered_pkl:\n",
    "#     make_pickle_path(data_path, filtered_pkl)\n",
    "# else :\n",
    "#     print(\"no pkl\")"
   ]
  },
  {
   "cell_type": "code",
   "execution_count": 95,
   "metadata": {},
   "outputs": [
    {
     "name": "stdout",
     "output_type": "stream",
     "text": [
      "['df_meta_5050_feat_means_train_test.pkl', 'df_meta_5050_feat_train_test.pkl']\n",
      "['df_meta_5050_feat.pkl', 'df_meta_5050_feat_means.pkl', 'df_meta_5050_feat_means_train_test.pkl', 'df_meta_5050_feat_train_test.pkl']\n",
      "['df_meta_5050.pkl', 'df_meta_5050_feat.pkl', 'df_meta_5050_feat_means.pkl', 'df_meta_5050_feat_means_train_test.pkl', 'df_meta_5050_feat_train_test.pkl']\n",
      "None\n"
     ]
    }
   ],
   "source": [
    "print(decision_filter(pickles))\n",
    "print(decision_filter(pickles, filter_list = [\"feat\", \"train_test\", \"pkl\"]))\n",
    "print(decision_filter(pickles, filter_list = [\"pkl\", \"train_test\", \"feat\"]))\n",
    "print(decision_filter(pickles, filter_list = [\"nope\"]))"
   ]
  },
  {
   "cell_type": "code",
   "execution_count": null,
   "metadata": {},
   "outputs": [],
   "source": [
    "# for each_pickle in pickles :\n",
    "#     if \"train_test\" in each_pickle :\n",
    "#         print([pickle for pickle in pickles if \"train_test\" in pickle])\n",
    "#         print(\"train_test\")\n",
    "#     if \"feat\" in each_pickle :\n",
    "#         print([pickle for pickle in pickles if \"feat\" in pickle])\n",
    "#         print(\"feat\")\n",
    "#     if \"pkl\" in each_pickle :\n",
    "#         print([pickle for pickle in pickles if \"pkl\" in pickle])\n",
    "#         print(\"pkl\")"
   ]
  },
  {
   "cell_type": "code",
   "execution_count": 101,
   "metadata": {},
   "outputs": [],
   "source": [
    "dirname = decision_filter(pickles)\n",
    "path_list = make_pickle_path(data_path, dirname)"
   ]
  },
  {
   "cell_type": "code",
   "execution_count": 102,
   "metadata": {},
   "outputs": [
    {
     "data": {
      "text/plain": [
       "['/mnt/d/silofox/paad/anomaly-example/exploring-AAD/notebooks/paad/tmp/data/df_meta_5050_feat_means_train_test.pkl',\n",
       " '/mnt/d/silofox/paad/anomaly-example/exploring-AAD/notebooks/paad/tmp/data/df_meta_5050_feat_train_test.pkl']"
      ]
     },
     "execution_count": 102,
     "metadata": {},
     "output_type": "execute_result"
    }
   ],
   "source": [
    "path_list"
   ]
  },
  {
   "cell_type": "code",
   "execution_count": 103,
   "metadata": {},
   "outputs": [],
   "source": [
    "path_list.sort()"
   ]
  },
  {
   "cell_type": "code",
   "execution_count": 108,
   "metadata": {},
   "outputs": [],
   "source": [
    "data_list = []\n",
    "for path_tmp in path_list :\n",
    "    data_list.append(pd.read_pickle(path_tmp))"
   ]
  },
  {
   "cell_type": "code",
   "execution_count": 111,
   "metadata": {},
   "outputs": [],
   "source": [
    "df_fan_means = data_list[0]\n",
    "df_fan = data_list[1]"
   ]
  },
  {
   "cell_type": "code",
   "execution_count": 115,
   "metadata": {},
   "outputs": [
    {
     "data": {
      "text/plain": [
       "((5550, 3226), (5550, 3138))"
      ]
     },
     "execution_count": 115,
     "metadata": {},
     "output_type": "execute_result"
    }
   ],
   "source": [
    "df_fan_means.shape, df_fan.shape"
   ]
  },
  {
   "cell_type": "code",
   "execution_count": null,
   "metadata": {},
   "outputs": [],
   "source": []
  }
 ],
 "metadata": {
  "kernelspec": {
   "display_name": "paad-Xy15NbVr-py3.10",
   "language": "python",
   "name": "python3"
  },
  "language_info": {
   "codemirror_mode": {
    "name": "ipython",
    "version": 3
   },
   "file_extension": ".py",
   "mimetype": "text/x-python",
   "name": "python",
   "nbconvert_exporter": "python",
   "pygments_lexer": "ipython3",
   "version": "3.10.12"
  }
 },
 "nbformat": 4,
 "nbformat_minor": 2
}
