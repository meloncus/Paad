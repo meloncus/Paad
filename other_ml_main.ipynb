{
 "cells": [
  {
   "cell_type": "code",
   "execution_count": 1,
   "metadata": {},
   "outputs": [
    {
     "name": "stderr",
     "output_type": "stream",
     "text": [
      "2024-07-17 11:02:06.272900: I tensorflow/core/util/port.cc:113] oneDNN custom operations are on. You may see slightly different numerical results due to floating-point round-off errors from different computation orders. To turn them off, set the environment variable `TF_ENABLE_ONEDNN_OPTS=0`.\n",
      "2024-07-17 11:02:06.299283: E external/local_xla/xla/stream_executor/cuda/cuda_dnn.cc:9261] Unable to register cuDNN factory: Attempting to register factory for plugin cuDNN when one has already been registered\n",
      "2024-07-17 11:02:06.299304: E external/local_xla/xla/stream_executor/cuda/cuda_fft.cc:607] Unable to register cuFFT factory: Attempting to register factory for plugin cuFFT when one has already been registered\n",
      "2024-07-17 11:02:06.299880: E external/local_xla/xla/stream_executor/cuda/cuda_blas.cc:1515] Unable to register cuBLAS factory: Attempting to register factory for plugin cuBLAS when one has already been registered\n",
      "2024-07-17 11:02:06.303447: I tensorflow/core/platform/cpu_feature_guard.cc:182] This TensorFlow binary is optimized to use available CPU instructions in performance-critical operations.\n",
      "To enable the following instructions: AVX2 AVX512F AVX512_VNNI FMA, in other operations, rebuild TensorFlow with the appropriate compiler flags.\n",
      "2024-07-17 11:02:06.717924: W tensorflow/compiler/tf2tensorrt/utils/py_utils.cc:38] TF-TRT Warning: Could not find TensorRT\n"
     ]
    },
    {
     "name": "stdout",
     "output_type": "stream",
     "text": [
      "Initializeing prepare_dataset...\n"
     ]
    }
   ],
   "source": [
    "import os\n",
    "import sys\n",
    "\n",
    "os.environ[\"CUDA_VISIBLE_DEVICES\"] = \"1\"\n",
    "\n",
    "from src.main import training_all_feat_except_ae"
   ]
  },
  {
   "cell_type": "code",
   "execution_count": 2,
   "metadata": {},
   "outputs": [],
   "source": [
    "# df_fan, df_fan_means = training_all_feat_except_ae()"
   ]
  },
  {
   "cell_type": "code",
   "execution_count": 24,
   "metadata": {},
   "outputs": [],
   "source": [
    "def search_pickle_data (data_path, dir_name_contains) :\n",
    "    dirname_parents = os.path.dirname(data_path)\n",
    "    dirs = os.listdir(dirname_parents)\n",
    "\n",
    "    contains_list = []\n",
    "    for dirname in dirs :\n",
    "        if dir_name_contains in dirname :\n",
    "            contains_list.append(dirname)\n",
    "    \n",
    "    if len(contains_list) == 0 :\n",
    "        return None\n",
    "    \n",
    "    return contains_list"
   ]
  },
  {
   "cell_type": "code",
   "execution_count": 28,
   "metadata": {},
   "outputs": [],
   "source": [
    "data_path = \"/mnt/d/silofox/paad/anomaly-example/exploring-AAD/notebooks/paad/tmp/data/df_an.pkl\"\n",
    "dir_name_contains = \"df_meta_5050\""
   ]
  },
  {
   "cell_type": "code",
   "execution_count": 29,
   "metadata": {},
   "outputs": [
    {
     "data": {
      "text/plain": [
       "['df_meta_5050.pkl',\n",
       " 'df_meta_5050_feat.pkl',\n",
       " 'df_meta_5050_feat_means.pkl',\n",
       " 'df_meta_5050_feat_means_train_test.pkl',\n",
       " 'df_meta_5050_feat_train_test.pkl']"
      ]
     },
     "execution_count": 29,
     "metadata": {},
     "output_type": "execute_result"
    }
   ],
   "source": [
    "search_pickle_data(data_path, dir_name_contains)"
   ]
  },
  {
   "cell_type": "code",
   "execution_count": 25,
   "metadata": {},
   "outputs": [],
   "source": [
    "pickles = search_pickle_data(data_path, dir_name_contains)"
   ]
  },
  {
   "cell_type": "code",
   "execution_count": 22,
   "metadata": {},
   "outputs": [
    {
     "data": {
      "text/plain": [
       "'/mnt/d/silofox/paad/anomaly-example/exploring-AAD/notebooks/paad/tmp/data/df_fan'"
      ]
     },
     "execution_count": 22,
     "metadata": {},
     "output_type": "execute_result"
    }
   ],
   "source": [
    "data_path_remove_suffix = data_path.split(\".\")[0]\n",
    "data_path_remove_suffix"
   ]
  },
  {
   "cell_type": "code",
   "execution_count": null,
   "metadata": {},
   "outputs": [],
   "source": [
    "data_path_train_test = data_path_remove_suffix + \"_train_test.pkl\"\n",
    "data_path_means_train_test = data_path_remove_suffix + \"_means_train_test.pkl\""
   ]
  }
 ],
 "metadata": {
  "kernelspec": {
   "display_name": "paad-Xy15NbVr-py3.10",
   "language": "python",
   "name": "python3"
  },
  "language_info": {
   "codemirror_mode": {
    "name": "ipython",
    "version": 3
   },
   "file_extension": ".py",
   "mimetype": "text/x-python",
   "name": "python",
   "nbconvert_exporter": "python",
   "pygments_lexer": "ipython3",
   "version": "3.10.12"
  }
 },
 "nbformat": 4,
 "nbformat_minor": 2
}
