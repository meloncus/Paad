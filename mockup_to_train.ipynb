{
 "cells": [
  {
   "cell_type": "code",
   "execution_count": 1,
   "metadata": {},
   "outputs": [],
   "source": [
    "import pandas as pd"
   ]
  },
  {
   "cell_type": "code",
   "execution_count": 2,
   "metadata": {},
   "outputs": [],
   "source": [
    "df = pd.read_pickle(\"tmp/df.pkl\")"
   ]
  },
  {
   "cell_type": "code",
   "execution_count": 3,
   "metadata": {},
   "outputs": [
    {
     "data": {
      "text/html": [
       "<div>\n",
       "<style scoped>\n",
       "    .dataframe tbody tr th:only-of-type {\n",
       "        vertical-align: middle;\n",
       "    }\n",
       "\n",
       "    .dataframe tbody tr th {\n",
       "        vertical-align: top;\n",
       "    }\n",
       "\n",
       "    .dataframe thead th {\n",
       "        text-align: right;\n",
       "    }\n",
       "</style>\n",
       "<table border=\"1\" class=\"dataframe\">\n",
       "  <thead>\n",
       "    <tr style=\"text-align: right;\">\n",
       "      <th></th>\n",
       "      <th>filename</th>\n",
       "      <th>label</th>\n",
       "      <th>type</th>\n",
       "      <th>model</th>\n",
       "      <th>mel</th>\n",
       "      <th>train</th>\n",
       "      <th>test</th>\n",
       "    </tr>\n",
       "  </thead>\n",
       "  <tbody>\n",
       "    <tr>\n",
       "      <th>0</th>\n",
       "      <td>/mnt/d/silofox/paad/anomaly-example/exploring-...</td>\n",
       "      <td>1</td>\n",
       "      <td>fan</td>\n",
       "      <td>4</td>\n",
       "      <td>[[-7.5002937, -4.639111, -6.0516047, -4.391639...</td>\n",
       "      <td>1</td>\n",
       "      <td>1</td>\n",
       "    </tr>\n",
       "    <tr>\n",
       "      <th>1</th>\n",
       "      <td>/mnt/d/silofox/paad/anomaly-example/exploring-...</td>\n",
       "      <td>1</td>\n",
       "      <td>fan</td>\n",
       "      <td>4</td>\n",
       "      <td>[[-12.436094, -9.041126, -3.7102282, -1.664873...</td>\n",
       "      <td>0</td>\n",
       "      <td>1</td>\n",
       "    </tr>\n",
       "    <tr>\n",
       "      <th>2</th>\n",
       "      <td>/mnt/d/silofox/paad/anomaly-example/exploring-...</td>\n",
       "      <td>1</td>\n",
       "      <td>fan</td>\n",
       "      <td>4</td>\n",
       "      <td>[[-9.425446, -5.0984335, -6.3233995, -8.37207,...</td>\n",
       "      <td>1</td>\n",
       "      <td>1</td>\n",
       "    </tr>\n",
       "    <tr>\n",
       "      <th>3</th>\n",
       "      <td>/mnt/d/silofox/paad/anomaly-example/exploring-...</td>\n",
       "      <td>1</td>\n",
       "      <td>fan</td>\n",
       "      <td>4</td>\n",
       "      <td>[[-6.7651253, -3.5295246, -5.626698, -6.813489...</td>\n",
       "      <td>1</td>\n",
       "      <td>1</td>\n",
       "    </tr>\n",
       "    <tr>\n",
       "      <th>4</th>\n",
       "      <td>/mnt/d/silofox/paad/anomaly-example/exploring-...</td>\n",
       "      <td>1</td>\n",
       "      <td>fan</td>\n",
       "      <td>4</td>\n",
       "      <td>[[-10.678015, -6.4591193, -6.473288, -9.170168...</td>\n",
       "      <td>0</td>\n",
       "      <td>1</td>\n",
       "    </tr>\n",
       "  </tbody>\n",
       "</table>\n",
       "</div>"
      ],
      "text/plain": [
       "                                            filename  label type model  \\\n",
       "0  /mnt/d/silofox/paad/anomaly-example/exploring-...      1  fan     4   \n",
       "1  /mnt/d/silofox/paad/anomaly-example/exploring-...      1  fan     4   \n",
       "2  /mnt/d/silofox/paad/anomaly-example/exploring-...      1  fan     4   \n",
       "3  /mnt/d/silofox/paad/anomaly-example/exploring-...      1  fan     4   \n",
       "4  /mnt/d/silofox/paad/anomaly-example/exploring-...      1  fan     4   \n",
       "\n",
       "                                                 mel  train  test  \n",
       "0  [[-7.5002937, -4.639111, -6.0516047, -4.391639...      1     1  \n",
       "1  [[-12.436094, -9.041126, -3.7102282, -1.664873...      0     1  \n",
       "2  [[-9.425446, -5.0984335, -6.3233995, -8.37207,...      1     1  \n",
       "3  [[-6.7651253, -3.5295246, -5.626698, -6.813489...      1     1  \n",
       "4  [[-10.678015, -6.4591193, -6.473288, -9.170168...      0     1  "
      ]
     },
     "execution_count": 3,
     "metadata": {},
     "output_type": "execute_result"
    }
   ],
   "source": [
    "df.head()"
   ]
  },
  {
   "cell_type": "code",
   "execution_count": 4,
   "metadata": {},
   "outputs": [
    {
     "data": {
      "text/plain": [
       "(1381, 7)"
      ]
     },
     "execution_count": 4,
     "metadata": {},
     "output_type": "execute_result"
    }
   ],
   "source": [
    "df.shape"
   ]
  },
  {
   "cell_type": "code",
   "execution_count": null,
   "metadata": {},
   "outputs": [],
   "source": []
  }
 ],
 "metadata": {
  "kernelspec": {
   "display_name": "paad-Xy15NbVr-py3.10",
   "language": "python",
   "name": "python3"
  },
  "language_info": {
   "codemirror_mode": {
    "name": "ipython",
    "version": 3
   },
   "file_extension": ".py",
   "mimetype": "text/x-python",
   "name": "python",
   "nbconvert_exporter": "python",
   "pygments_lexer": "ipython3",
   "version": "3.10.12"
  }
 },
 "nbformat": 4,
 "nbformat_minor": 2
}
