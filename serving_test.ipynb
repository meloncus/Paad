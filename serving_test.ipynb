{
 "cells": [
  {
   "cell_type": "code",
   "execution_count": 1,
   "metadata": {},
   "outputs": [],
   "source": [
    "import os\n",
    "\n",
    "os.environ[\"CUDA_VISIBLE_DEVICES\"] = \"1\""
   ]
  },
  {
   "cell_type": "code",
   "execution_count": 2,
   "metadata": {},
   "outputs": [
    {
     "name": "stderr",
     "output_type": "stream",
     "text": [
      "2024-07-09 12:42:45.324688: I tensorflow/core/util/port.cc:113] oneDNN custom operations are on. You may see slightly different numerical results due to floating-point round-off errors from different computation orders. To turn them off, set the environment variable `TF_ENABLE_ONEDNN_OPTS=0`.\n",
      "2024-07-09 12:42:45.347915: E external/local_xla/xla/stream_executor/cuda/cuda_dnn.cc:9261] Unable to register cuDNN factory: Attempting to register factory for plugin cuDNN when one has already been registered\n",
      "2024-07-09 12:42:45.347934: E external/local_xla/xla/stream_executor/cuda/cuda_fft.cc:607] Unable to register cuFFT factory: Attempting to register factory for plugin cuFFT when one has already been registered\n",
      "2024-07-09 12:42:45.348550: E external/local_xla/xla/stream_executor/cuda/cuda_blas.cc:1515] Unable to register cuBLAS factory: Attempting to register factory for plugin cuBLAS when one has already been registered\n",
      "2024-07-09 12:42:45.352337: I tensorflow/core/platform/cpu_feature_guard.cc:182] This TensorFlow binary is optimized to use available CPU instructions in performance-critical operations.\n",
      "To enable the following instructions: AVX2 AVX512F AVX512_VNNI FMA, in other operations, rebuild TensorFlow with the appropriate compiler flags.\n",
      "2024-07-09 12:42:45.782261: W tensorflow/compiler/tf2tensorrt/utils/py_utils.cc:38] TF-TRT Warning: Could not find TensorRT\n"
     ]
    },
    {
     "name": "stdout",
     "output_type": "stream",
     "text": [
      "Initializeing prepare_dataset...\n"
     ]
    }
   ],
   "source": [
    "from src.prepare_dataset.prepare_dataset import get_data_paths_and_labels_from_machine"
   ]
  },
  {
   "cell_type": "code",
   "execution_count": 3,
   "metadata": {},
   "outputs": [
    {
     "name": "stdout",
     "output_type": "stream",
     "text": [
      "base_dir is  /mnt/d/silofox/paad/anomaly-example/exploring-AAD/notebooks/data\n",
      "['data', 'DCASE', '2020', 'dev', 'fan', 'train']\n",
      "['data', 'DCASE', '2020', 'dev', 'fan', 'test']\n",
      "['data', 'DCASE', '2020', 'eval', 'fan', 'test']\n",
      "['data', 'DCASE', '2020', 'add', 'fan', 'train']\n",
      "['data', 'DCASE', '2021', 'dev', 'fan', 'train']\n",
      "['data', 'DCASE', '2021', 'dev', 'fan', 'test']\n",
      "['data', 'DCASE', '2021', 'eval', 'fan', 'test']\n",
      "['data', 'DCASE', '2021', 'add', 'fan', 'train']\n",
      "['data', 'DCASE', '2022', 'dev', 'fan', 'train']\n",
      "['data', 'DCASE', '2022', 'dev', 'fan', 'test']\n",
      "['data', 'DCASE', '2022', 'eval', 'fan', 'test']\n",
      "['data', 'DCASE', '2022', 'add', 'fan', 'train']\n",
      "['data', 'DCASE', '2023', 'dev', 'fan', 'train']\n",
      "['data', 'DCASE', '2023', 'dev', 'fan', 'test']\n",
      "['data', 'DCASE', '2024', 'dev', 'fan', 'train']\n",
      "['data', 'DCASE', '2024', 'dev', 'fan', 'test']\n",
      "['data', 'MIMII', 'data_-6_db', 'fan', 'id_00', 'normal']\n",
      "['data', 'MIMII', 'data_-6_db', 'fan', 'id_00', 'abnormal']\n",
      "['data', 'MIMII', 'data_-6_db', 'fan', 'id_02', 'normal']\n",
      "['data', 'MIMII', 'data_-6_db', 'fan', 'id_02', 'abnormal']\n",
      "['data', 'MIMII', 'data_-6_db', 'fan', 'id_04', 'normal']\n",
      "['data', 'MIMII', 'data_-6_db', 'fan', 'id_04', 'abnormal']\n",
      "['data', 'MIMII', 'data_-6_db', 'fan', 'id_06', 'normal']\n",
      "['data', 'MIMII', 'data_-6_db', 'fan', 'id_06', 'abnormal']\n",
      "['data', 'MIMII', 'data_0_db', 'fan', 'id_00', 'normal']\n",
      "['data', 'MIMII', 'data_0_db', 'fan', 'id_00', 'abnormal']\n",
      "['data', 'MIMII', 'data_0_db', 'fan', 'id_02', 'normal']\n",
      "['data', 'MIMII', 'data_0_db', 'fan', 'id_02', 'abnormal']\n",
      "['data', 'MIMII', 'data_0_db', 'fan', 'id_04', 'normal']\n",
      "['data', 'MIMII', 'data_0_db', 'fan', 'id_04', 'abnormal']\n",
      "['data', 'MIMII', 'data_0_db', 'fan', 'id_06', 'normal']\n",
      "['data', 'MIMII', 'data_0_db', 'fan', 'id_06', 'abnormal']\n",
      "['data', 'MIMII', 'data_6_db', 'fan', 'id_00', 'normal']\n",
      "['data', 'MIMII', 'data_6_db', 'fan', 'id_00', 'abnormal']\n",
      "['data', 'MIMII', 'data_6_db', 'fan', 'id_02', 'normal']\n",
      "['data', 'MIMII', 'data_6_db', 'fan', 'id_02', 'abnormal']\n",
      "['data', 'MIMII', 'data_6_db', 'fan', 'id_04', 'normal']\n",
      "['data', 'MIMII', 'data_6_db', 'fan', 'id_04', 'abnormal']\n",
      "['data', 'MIMII', 'data_6_db', 'fan', 'id_06', 'normal']\n",
      "['data', 'MIMII', 'data_6_db', 'fan', 'id_06', 'abnormal']\n"
     ]
    }
   ],
   "source": [
    "data_paths, labels = get_data_paths_and_labels_from_machine(\"fan\")"
   ]
  },
  {
   "cell_type": "code",
   "execution_count": 4,
   "metadata": {},
   "outputs": [],
   "source": [
    "normal_sample_path = data_paths[\"MIMII\"][\"data_6_db\"][\"normal\"][:100]\n",
    "normal_sample_label = [ 1 for _ in range(100) ]\n",
    "abnormal_sample_path = data_paths[\"MIMII\"][\"data_6_db\"][\"abnormal\"][:100]\n",
    "abnormal_sample_label = [ -1 for _ in range(100) ]"
   ]
  },
  {
   "cell_type": "code",
   "execution_count": 5,
   "metadata": {},
   "outputs": [
    {
     "data": {
      "text/plain": [
       "(100, 100, 100, 100)"
      ]
     },
     "execution_count": 5,
     "metadata": {},
     "output_type": "execute_result"
    }
   ],
   "source": [
    "len(normal_sample_path), len(abnormal_sample_path), len(normal_sample_label), len(abnormal_sample_label)"
   ]
  },
  {
   "cell_type": "code",
   "execution_count": 6,
   "metadata": {},
   "outputs": [
    {
     "name": "stdout",
     "output_type": "stream",
     "text": [
      "('/mnt/d/silofox/paad/anomaly-example/exploring-AAD/notebooks/data/MIMII/data_6_db/fan/id_00/normal/00000305.wav', '/mnt/d/silofox/paad/anomaly-example/exploring-AAD/notebooks/data/MIMII/data_6_db/fan/id_00/normal/00000611.wav')\n"
     ]
    }
   ],
   "source": [
    "sample_path_tmp = normal_sample_path[0], normal_sample_path[1]\n",
    "print(sample_path_tmp)"
   ]
  },
  {
   "cell_type": "code",
   "execution_count": 7,
   "metadata": {},
   "outputs": [
    {
     "name": "stderr",
     "output_type": "stream",
     "text": [
      "2024-07-09 12:42:47.359789: I external/local_xla/xla/stream_executor/cuda/cuda_executor.cc:901] successful NUMA node read from SysFS had negative value (-1), but there must be at least one NUMA node, so returning NUMA node zero. See more at https://github.com/torvalds/linux/blob/v6.0/Documentation/ABI/testing/sysfs-bus-pci#L344-L355\n",
      "2024-07-09 12:42:47.388064: I external/local_xla/xla/stream_executor/cuda/cuda_executor.cc:901] successful NUMA node read from SysFS had negative value (-1), but there must be at least one NUMA node, so returning NUMA node zero. See more at https://github.com/torvalds/linux/blob/v6.0/Documentation/ABI/testing/sysfs-bus-pci#L344-L355\n",
      "2024-07-09 12:42:47.395622: I external/local_xla/xla/stream_executor/cuda/cuda_executor.cc:901] successful NUMA node read from SysFS had negative value (-1), but there must be at least one NUMA node, so returning NUMA node zero. See more at https://github.com/torvalds/linux/blob/v6.0/Documentation/ABI/testing/sysfs-bus-pci#L344-L355\n",
      "2024-07-09 12:42:47.399246: I external/local_xla/xla/stream_executor/cuda/cuda_executor.cc:901] successful NUMA node read from SysFS had negative value (-1), but there must be at least one NUMA node, so returning NUMA node zero. See more at https://github.com/torvalds/linux/blob/v6.0/Documentation/ABI/testing/sysfs-bus-pci#L344-L355\n",
      "2024-07-09 12:42:47.401880: I external/local_xla/xla/stream_executor/cuda/cuda_executor.cc:901] successful NUMA node read from SysFS had negative value (-1), but there must be at least one NUMA node, so returning NUMA node zero. See more at https://github.com/torvalds/linux/blob/v6.0/Documentation/ABI/testing/sysfs-bus-pci#L344-L355\n",
      "2024-07-09 12:42:47.404385: I external/local_xla/xla/stream_executor/cuda/cuda_executor.cc:901] successful NUMA node read from SysFS had negative value (-1), but there must be at least one NUMA node, so returning NUMA node zero. See more at https://github.com/torvalds/linux/blob/v6.0/Documentation/ABI/testing/sysfs-bus-pci#L344-L355\n",
      "2024-07-09 12:42:47.521810: I external/local_xla/xla/stream_executor/cuda/cuda_executor.cc:901] successful NUMA node read from SysFS had negative value (-1), but there must be at least one NUMA node, so returning NUMA node zero. See more at https://github.com/torvalds/linux/blob/v6.0/Documentation/ABI/testing/sysfs-bus-pci#L344-L355\n",
      "2024-07-09 12:42:47.523358: I external/local_xla/xla/stream_executor/cuda/cuda_executor.cc:901] successful NUMA node read from SysFS had negative value (-1), but there must be at least one NUMA node, so returning NUMA node zero. See more at https://github.com/torvalds/linux/blob/v6.0/Documentation/ABI/testing/sysfs-bus-pci#L344-L355\n",
      "2024-07-09 12:42:47.524879: I external/local_xla/xla/stream_executor/cuda/cuda_executor.cc:901] successful NUMA node read from SysFS had negative value (-1), but there must be at least one NUMA node, so returning NUMA node zero. See more at https://github.com/torvalds/linux/blob/v6.0/Documentation/ABI/testing/sysfs-bus-pci#L344-L355\n",
      "2024-07-09 12:42:47.526269: I tensorflow/core/common_runtime/gpu/gpu_device.cc:1929] Created device /job:localhost/replica:0/task:0/device:GPU:0 with 21015 MB memory:  -> device: 0, name: NVIDIA GeForce RTX 3090, pci bus id: 0000:04:00.0, compute capability: 8.6\n"
     ]
    }
   ],
   "source": [
    "from src.preprocess.submodule.file_to_vector import file_to_vector_mel\n",
    "from src.preprocess.submodule.normalize import min_max_normalization\n",
    "import tensorflow as tf\n",
    "import numpy as np\n",
    "\n",
    "sample_lms = np.zeros((2, 64, 313))\n",
    "sample_lms[0] = file_to_vector_mel(sample_path_tmp[0])\n",
    "sample_lms[1] = file_to_vector_mel(sample_path_tmp[1])\n",
    "\n",
    "min1 = np.min(sample_lms[0])\n",
    "max1 = np.max(sample_lms[0])\n",
    "\n",
    "min2 = np.min(sample_lms[1])\n",
    "max2 = np.max(sample_lms[1])\n",
    "\n",
    "sample_lms[0] = min_max_normalization(sample_lms[0], min1, max1)\n",
    "sample_lms[1] = min_max_normalization(sample_lms[1], min2, max2)\n",
    "\n",
    "sample_lms = tf.cast(sample_lms, tf.float32)"
   ]
  },
  {
   "cell_type": "code",
   "execution_count": 8,
   "metadata": {},
   "outputs": [
    {
     "data": {
      "text/plain": [
       "TensorShape([64, 313])"
      ]
     },
     "execution_count": 8,
     "metadata": {},
     "output_type": "execute_result"
    }
   ],
   "source": [
    "sample_lms[0].shape"
   ]
  },
  {
   "cell_type": "code",
   "execution_count": 9,
   "metadata": {},
   "outputs": [],
   "source": [
    "from src.models.submodule.autoencoder import AutoEncoder"
   ]
  },
  {
   "cell_type": "code",
   "execution_count": 10,
   "metadata": {},
   "outputs": [],
   "source": [
    "autoencoder = AutoEncoder(sample_lms[0].shape)\n",
    "# autoencoder.compile(optimizer = 'adam', loss = 'mean_squared_error')\n",
    "# autoencoder.build(input_shape = sample_lms.shape)"
   ]
  },
  {
   "cell_type": "code",
   "execution_count": 11,
   "metadata": {},
   "outputs": [],
   "source": [
    "sample_tensor = autoencoder(sample_lms)"
   ]
  },
  {
   "cell_type": "code",
   "execution_count": 12,
   "metadata": {},
   "outputs": [
    {
     "data": {
      "text/plain": [
       "TensorShape([2, 64, 313])"
      ]
     },
     "execution_count": 12,
     "metadata": {},
     "output_type": "execute_result"
    }
   ],
   "source": [
    "sample_tensor.shape"
   ]
  },
  {
   "cell_type": "code",
   "execution_count": 13,
   "metadata": {},
   "outputs": [
    {
     "name": "stdout",
     "output_type": "stream",
     "text": [
      "Model: \"auto_encoder\"\n",
      "_________________________________________________________________\n",
      " Layer (type)                Output Shape              Param #   \n",
      "=================================================================\n",
      " sequential (Sequential)     (2, 8)                    1289016   \n",
      "                                                                 \n",
      " sequential_1 (Sequential)   (2, 64, 313)              1309040   \n",
      "                                                                 \n",
      "=================================================================\n",
      "Total params: 2598056 (9.91 MB)\n",
      "Trainable params: 2598056 (9.91 MB)\n",
      "Non-trainable params: 0 (0.00 Byte)\n",
      "_________________________________________________________________\n"
     ]
    }
   ],
   "source": [
    "autoencoder.summary()"
   ]
  },
  {
   "cell_type": "code",
   "execution_count": 14,
   "metadata": {},
   "outputs": [
    {
     "name": "stdout",
     "output_type": "stream",
     "text": [
      "Model: \"sequential\"\n",
      "_________________________________________________________________\n",
      " Layer (type)                Output Shape              Param #   \n",
      "=================================================================\n",
      " flatten (Flatten)           (2, 20032)                0         \n",
      "                                                                 \n",
      " dense (Dense)               (2, 64)                   1282112   \n",
      "                                                                 \n",
      " dense_1 (Dense)             (2, 64)                   4160      \n",
      "                                                                 \n",
      " dense_2 (Dense)             (2, 32)                   2080      \n",
      "                                                                 \n",
      " dense_3 (Dense)             (2, 16)                   528       \n",
      "                                                                 \n",
      " dense_4 (Dense)             (2, 8)                    136       \n",
      "                                                                 \n",
      "=================================================================\n",
      "Total params: 1289016 (4.92 MB)\n",
      "Trainable params: 1289016 (4.92 MB)\n",
      "Non-trainable params: 0 (0.00 Byte)\n",
      "_________________________________________________________________\n"
     ]
    }
   ],
   "source": [
    "autoencoder.encoder.summary()"
   ]
  },
  {
   "cell_type": "code",
   "execution_count": 15,
   "metadata": {},
   "outputs": [
    {
     "name": "stdout",
     "output_type": "stream",
     "text": [
      "Model: \"sequential_1\"\n",
      "_________________________________________________________________\n",
      " Layer (type)                Output Shape              Param #   \n",
      "=================================================================\n",
      " dense_5 (Dense)             (2, 16)                   144       \n",
      "                                                                 \n",
      " dense_6 (Dense)             (2, 32)                   544       \n",
      "                                                                 \n",
      " dense_7 (Dense)             (2, 64)                   2112      \n",
      "                                                                 \n",
      " dense_8 (Dense)             (2, 64)                   4160      \n",
      "                                                                 \n",
      " dense_9 (Dense)             (2, 20032)                1302080   \n",
      "                                                                 \n",
      " reshape (Reshape)           (2, 64, 313)              0         \n",
      "                                                                 \n",
      "=================================================================\n",
      "Total params: 1309040 (4.99 MB)\n",
      "Trainable params: 1309040 (4.99 MB)\n",
      "Non-trainable params: 0 (0.00 Byte)\n",
      "_________________________________________________________________\n"
     ]
    }
   ],
   "source": [
    "autoencoder.decoder.summary()"
   ]
  },
  {
   "cell_type": "code",
   "execution_count": 16,
   "metadata": {},
   "outputs": [],
   "source": [
    "autoencoder.load_weights(\"tmp/autoencoder_weights.h5\")"
   ]
  },
  {
   "cell_type": "code",
   "execution_count": 17,
   "metadata": {},
   "outputs": [
    {
     "name": "stdout",
     "output_type": "stream",
     "text": [
      "Model: \"sequential\"\n",
      "_________________________________________________________________\n",
      " Layer (type)                Output Shape              Param #   \n",
      "=================================================================\n",
      " flatten (Flatten)           (2, 20032)                0         \n",
      "                                                                 \n",
      " dense (Dense)               (2, 64)                   1282112   \n",
      "                                                                 \n",
      " dense_1 (Dense)             (2, 64)                   4160      \n",
      "                                                                 \n",
      " dense_2 (Dense)             (2, 32)                   2080      \n",
      "                                                                 \n",
      " dense_3 (Dense)             (2, 16)                   528       \n",
      "                                                                 \n",
      " dense_4 (Dense)             (2, 8)                    136       \n",
      "                                                                 \n",
      "=================================================================\n",
      "Total params: 1289016 (4.92 MB)\n",
      "Trainable params: 1289016 (4.92 MB)\n",
      "Non-trainable params: 0 (0.00 Byte)\n",
      "_________________________________________________________________\n"
     ]
    }
   ],
   "source": [
    "autoencoder.encoder.summary()"
   ]
  },
  {
   "cell_type": "code",
   "execution_count": 18,
   "metadata": {},
   "outputs": [
    {
     "name": "stdout",
     "output_type": "stream",
     "text": [
      "1/1 [==============================] - 0s 119ms/step\n"
     ]
    },
    {
     "data": {
      "text/plain": [
       "array([[[0.33391067, 0.2849533 , 0.27742293, ..., 0.28879005,\n",
       "         0.27038875, 0.29557618],\n",
       "        [0.34278715, 0.30116922, 0.29594615, ..., 0.29992494,\n",
       "         0.3010144 , 0.30678016],\n",
       "        [0.32524252, 0.28282917, 0.28246447, ..., 0.2707874 ,\n",
       "         0.27969033, 0.29376906],\n",
       "        ...,\n",
       "        [0.78100306, 0.74375343, 0.7407391 , ..., 0.74329287,\n",
       "         0.75462544, 0.7432747 ],\n",
       "        [0.77236545, 0.73721397, 0.7421381 , ..., 0.7535662 ,\n",
       "         0.7321148 , 0.7503984 ],\n",
       "        [0.77464116, 0.74750555, 0.77468854, ..., 0.7484343 ,\n",
       "         0.7593792 , 0.7526678 ]],\n",
       "\n",
       "       [[0.31592527, 0.2704712 , 0.26659092, ..., 0.27338558,\n",
       "         0.2646732 , 0.2871846 ],\n",
       "        [0.32545996, 0.28610334, 0.28069085, ..., 0.2863679 ,\n",
       "         0.29291442, 0.291672  ],\n",
       "        [0.3132167 , 0.27277103, 0.27019852, ..., 0.2649137 ,\n",
       "         0.26880142, 0.2861079 ],\n",
       "        ...,\n",
       "        [0.7445925 , 0.70952773, 0.71154916, ..., 0.7062173 ,\n",
       "         0.71868396, 0.7112382 ],\n",
       "        [0.7440546 , 0.70509094, 0.7085456 , ..., 0.7182308 ,\n",
       "         0.7053068 , 0.7200369 ],\n",
       "        [0.7447502 , 0.7177989 , 0.7331404 , ..., 0.71719503,\n",
       "         0.7275251 , 0.72327644]]], dtype=float32)"
      ]
     },
     "execution_count": 18,
     "metadata": {},
     "output_type": "execute_result"
    }
   ],
   "source": [
    "autoencoder.predict(sample_lms)"
   ]
  },
  {
   "cell_type": "code",
   "execution_count": 19,
   "metadata": {},
   "outputs": [
    {
     "name": "stdout",
     "output_type": "stream",
     "text": [
      "Model: \"sequential\"\n",
      "_________________________________________________________________\n",
      " Layer (type)                Output Shape              Param #   \n",
      "=================================================================\n",
      " flatten (Flatten)           (None, 20032)             0         \n",
      "                                                                 \n",
      " dense (Dense)               (None, 64)                1282112   \n",
      "                                                                 \n",
      " dense_1 (Dense)             (None, 64)                4160      \n",
      "                                                                 \n",
      " dense_2 (Dense)             (None, 32)                2080      \n",
      "                                                                 \n",
      " dense_3 (Dense)             (None, 16)                528       \n",
      "                                                                 \n",
      " dense_4 (Dense)             (None, 8)                 136       \n",
      "                                                                 \n",
      "=================================================================\n",
      "Total params: 1289016 (4.92 MB)\n",
      "Trainable params: 1289016 (4.92 MB)\n",
      "Non-trainable params: 0 (0.00 Byte)\n",
      "_________________________________________________________________\n"
     ]
    }
   ],
   "source": [
    "autoencoder.encoder.summary()"
   ]
  },
  {
   "cell_type": "code",
   "execution_count": 20,
   "metadata": {},
   "outputs": [
    {
     "name": "stdout",
     "output_type": "stream",
     "text": [
      "1/1 [==============================] - 0s 16ms/step\n"
     ]
    },
    {
     "data": {
      "text/plain": [
       "array([[[0.33391067, 0.2849533 , 0.27742293, ..., 0.28879005,\n",
       "         0.27038875, 0.29557618],\n",
       "        [0.34278715, 0.30116922, 0.29594615, ..., 0.29992494,\n",
       "         0.3010144 , 0.30678016],\n",
       "        [0.32524252, 0.28282917, 0.28246447, ..., 0.2707874 ,\n",
       "         0.27969033, 0.29376906],\n",
       "        ...,\n",
       "        [0.78100306, 0.74375343, 0.7407391 , ..., 0.74329287,\n",
       "         0.75462544, 0.7432747 ],\n",
       "        [0.77236545, 0.73721397, 0.7421381 , ..., 0.7535662 ,\n",
       "         0.7321148 , 0.7503984 ],\n",
       "        [0.77464116, 0.74750555, 0.77468854, ..., 0.7484343 ,\n",
       "         0.7593792 , 0.7526678 ]],\n",
       "\n",
       "       [[0.31592527, 0.2704712 , 0.26659092, ..., 0.27338558,\n",
       "         0.2646732 , 0.2871846 ],\n",
       "        [0.32545996, 0.28610334, 0.28069085, ..., 0.2863679 ,\n",
       "         0.29291442, 0.291672  ],\n",
       "        [0.3132167 , 0.27277103, 0.27019852, ..., 0.2649137 ,\n",
       "         0.26880142, 0.2861079 ],\n",
       "        ...,\n",
       "        [0.7445925 , 0.70952773, 0.71154916, ..., 0.7062173 ,\n",
       "         0.71868396, 0.7112382 ],\n",
       "        [0.7440546 , 0.70509094, 0.7085456 , ..., 0.7182308 ,\n",
       "         0.7053068 , 0.7200369 ],\n",
       "        [0.7447502 , 0.7177989 , 0.7331404 , ..., 0.71719503,\n",
       "         0.7275251 , 0.72327644]]], dtype=float32)"
      ]
     },
     "execution_count": 20,
     "metadata": {},
     "output_type": "execute_result"
    }
   ],
   "source": [
    "autoencoder.predict(sample_lms)"
   ]
  },
  {
   "cell_type": "code",
   "execution_count": 21,
   "metadata": {},
   "outputs": [],
   "source": [
    "another_sample = np.zeros((3, 64, 313))\n",
    "another_sample[0] = file_to_vector_mel(normal_sample_path[10])\n",
    "\n",
    "\n",
    "min3 = np.min(another_sample[0])\n",
    "max3 = np.max(another_sample[0])\n",
    "\n",
    "another_sample[0] = min_max_normalization(another_sample[0], min3, max3)\n",
    "another_sample[0] = tf.cast(another_sample[0], tf.float32)\n",
    "\n",
    "another_sample[1] = sample_lms[0]\n",
    "another_sample[2] = sample_lms[1]"
   ]
  },
  {
   "cell_type": "code",
   "execution_count": 22,
   "metadata": {},
   "outputs": [
    {
     "name": "stdout",
     "output_type": "stream",
     "text": [
      "1/1 [==============================] - 0s 31ms/step\n"
     ]
    },
    {
     "data": {
      "text/plain": [
       "array([[[0.3100082 , 0.26483163, 0.25779346, ..., 0.26816267,\n",
       "         0.25186238, 0.27521077],\n",
       "        [0.3188396 , 0.2803217 , 0.27540582, ..., 0.2784964 ,\n",
       "         0.27999946, 0.2847881 ],\n",
       "        [0.3023342 , 0.26292983, 0.26262027, ..., 0.2518498 ,\n",
       "         0.26015   , 0.27299914],\n",
       "        ...,\n",
       "        [0.724214  , 0.68994844, 0.687334  , ..., 0.68933135,\n",
       "         0.70026445, 0.689506  ],\n",
       "        [0.716443  , 0.6836467 , 0.6879558 , ..., 0.69910777,\n",
       "         0.67947954, 0.69618726],\n",
       "        [0.71862316, 0.693435  , 0.71867245, ..., 0.69425243,\n",
       "         0.70427346, 0.69826007]],\n",
       "\n",
       "       [[0.33391067, 0.2849533 , 0.27742293, ..., 0.28879005,\n",
       "         0.27038875, 0.29557618],\n",
       "        [0.34278715, 0.30116922, 0.29594615, ..., 0.29992494,\n",
       "         0.3010144 , 0.30678016],\n",
       "        [0.32524252, 0.28282917, 0.28246447, ..., 0.2707874 ,\n",
       "         0.27969033, 0.29376906],\n",
       "        ...,\n",
       "        [0.78100306, 0.74375343, 0.7407391 , ..., 0.74329287,\n",
       "         0.75462544, 0.7432747 ],\n",
       "        [0.77236545, 0.73721397, 0.7421381 , ..., 0.7535662 ,\n",
       "         0.7321148 , 0.7503984 ],\n",
       "        [0.77464116, 0.74750555, 0.77468854, ..., 0.7484343 ,\n",
       "         0.7593792 , 0.7526678 ]],\n",
       "\n",
       "       [[0.31592527, 0.2704712 , 0.26659092, ..., 0.27338558,\n",
       "         0.2646732 , 0.2871846 ],\n",
       "        [0.32545996, 0.28610334, 0.28069085, ..., 0.2863679 ,\n",
       "         0.29291442, 0.291672  ],\n",
       "        [0.3132167 , 0.27277103, 0.27019852, ..., 0.2649137 ,\n",
       "         0.26880142, 0.2861079 ],\n",
       "        ...,\n",
       "        [0.7445925 , 0.70952773, 0.71154916, ..., 0.7062173 ,\n",
       "         0.71868396, 0.7112382 ],\n",
       "        [0.7440546 , 0.70509094, 0.7085456 , ..., 0.7182308 ,\n",
       "         0.7053068 , 0.7200369 ],\n",
       "        [0.7447502 , 0.7177989 , 0.7331404 , ..., 0.71719503,\n",
       "         0.7275251 , 0.72327644]]], dtype=float32)"
      ]
     },
     "execution_count": 22,
     "metadata": {},
     "output_type": "execute_result"
    }
   ],
   "source": [
    "autoencoder.predict(another_sample)"
   ]
  },
  {
   "cell_type": "code",
   "execution_count": 23,
   "metadata": {},
   "outputs": [
    {
     "name": "stdout",
     "output_type": "stream",
     "text": [
      "1/1 [==============================] - 0s 17ms/step\n"
     ]
    }
   ],
   "source": [
    "result = autoencoder.predict(another_sample)"
   ]
  },
  {
   "cell_type": "code",
   "execution_count": 24,
   "metadata": {},
   "outputs": [
    {
     "data": {
      "text/plain": [
       "(3, 64, 313)"
      ]
     },
     "execution_count": 24,
     "metadata": {},
     "output_type": "execute_result"
    }
   ],
   "source": [
    "result.shape"
   ]
  },
  {
   "cell_type": "code",
   "execution_count": 25,
   "metadata": {},
   "outputs": [],
   "source": [
    "another_sample = np.zeros((1, 64, 313))\n",
    "another_sample[0] = sample_lms[0]"
   ]
  },
  {
   "cell_type": "code",
   "execution_count": 26,
   "metadata": {},
   "outputs": [
    {
     "name": "stdout",
     "output_type": "stream",
     "text": [
      "1/1 [==============================] - 0s 19ms/step\n"
     ]
    }
   ],
   "source": [
    "result = autoencoder.predict(another_sample)"
   ]
  },
  {
   "cell_type": "code",
   "execution_count": 27,
   "metadata": {},
   "outputs": [
    {
     "data": {
      "text/plain": [
       "(1, 64, 313)"
      ]
     },
     "execution_count": 27,
     "metadata": {},
     "output_type": "execute_result"
    }
   ],
   "source": [
    "result.shape"
   ]
  },
  {
   "cell_type": "code",
   "execution_count": 28,
   "metadata": {},
   "outputs": [],
   "source": [
    "from src.preprocess.submodule.file_to_vector import file_to_vector_mel\n",
    "from src.preprocess.submodule.vector_to_numpy_arr import vector_to_numpy_arr\n",
    "from src.preprocess.submodule.normalize import min_max_normalization\n"
   ]
  },
  {
   "cell_type": "code",
   "execution_count": 29,
   "metadata": {},
   "outputs": [
    {
     "name": "stderr",
     "output_type": "stream",
     "text": [
      "100%|██████████| 100/100 [00:00<00:00, 13893.48it/s]\n"
     ]
    }
   ],
   "source": [
    "normal_sample_vec = [ file_to_vector_mel(path_tmp) for path_tmp in normal_sample_path ]\n",
    "normal_sample_np = vector_to_numpy_arr(normal_sample_vec)\n",
    "normal_sample = [ min_max_normalization(sample) for sample in normal_sample_np ]"
   ]
  },
  {
   "cell_type": "code",
   "execution_count": 30,
   "metadata": {},
   "outputs": [
    {
     "data": {
      "text/plain": [
       "(100, 64, 313)"
      ]
     },
     "execution_count": 30,
     "metadata": {},
     "output_type": "execute_result"
    }
   ],
   "source": [
    "normal_sample_np.shape"
   ]
  },
  {
   "cell_type": "code",
   "execution_count": 31,
   "metadata": {},
   "outputs": [
    {
     "name": "stdout",
     "output_type": "stream",
     "text": [
      "4/4 [==============================] - 0s 2ms/step\n"
     ]
    }
   ],
   "source": [
    "result = autoencoder.predict(normal_sample_np)"
   ]
  },
  {
   "cell_type": "code",
   "execution_count": 32,
   "metadata": {},
   "outputs": [
    {
     "data": {
      "text/plain": [
       "(100, 64, 313)"
      ]
     },
     "execution_count": 32,
     "metadata": {},
     "output_type": "execute_result"
    },
    {
     "ename": "",
     "evalue": "",
     "output_type": "error",
     "traceback": [
      "\u001b[1;31m현재 셀 또는 이전 셀에서 코드를 실행하는 동안 Kernel이 충돌했습니다. \n",
      "\u001b[1;31m셀의 코드를 검토하여 가능한 오류 원인을 식별하세요. \n",
      "\u001b[1;31m자세한 내용을 보려면 <a href='https://aka.ms/vscodeJupyterKernelCrash'>여기</a>를 클릭하세요. \n",
      "\u001b[1;31m자세한 내용은 Jupyter <a href='command:jupyter.viewOutput'>로그</a>를 참조하세요."
     ]
    }
   ],
   "source": [
    "result.shape"
   ]
  },
  {
   "cell_type": "code",
   "execution_count": null,
   "metadata": {},
   "outputs": [],
   "source": []
  }
 ],
 "metadata": {
  "kernelspec": {
   "display_name": "paad-Xy15NbVr-py3.10",
   "language": "python",
   "name": "python3"
  },
  "language_info": {
   "codemirror_mode": {
    "name": "ipython",
    "version": 3
   },
   "file_extension": ".py",
   "mimetype": "text/x-python",
   "name": "python",
   "nbconvert_exporter": "python",
   "pygments_lexer": "ipython3",
   "version": "3.10.12"
  }
 },
 "nbformat": 4,
 "nbformat_minor": 2
}
